{
 "cells": [
  {
   "cell_type": "markdown",
   "id": "1180bcf5",
   "metadata": {},
   "source": [
    "# Stacks"
   ]
  },
  {
   "cell_type": "markdown",
   "id": "40e1176f",
   "metadata": {},
   "source": [
    "## Valid Parentheses"
   ]
  },
  {
   "cell_type": "code",
   "execution_count": null,
   "id": "050c970f",
   "metadata": {},
   "outputs": [],
   "source": [
    "# Neetcode-150 21/150 https://leetcode.com/problems/valid-parentheses/description/\n",
    "# Valid Parentheses\n",
    "\n",
    "def isValid(s: str) -> bool:\n",
    "    stack = []\n",
    "    closeToOpen = { \")\" : \"(\", \"]\" : \"[\", \"}\" : \"{\" } #we store the closing bracs to open bracs, as k-v pair\n",
    "    \n",
    "    for ch in s: # we loop through the string\n",
    "        if ch in closeToOpen: # if we find a closing brac...\n",
    "            if stack and stack[-1] == closeToOpen[ch]: # to be a valid parenthesis, the opening of it should be there in the top of stack so that \"....[\" is matched with \"]\"\n",
    "                stack.pop() # if it is, we pop it, hence removing the pair of valids\n",
    "            else:\n",
    "                return False # if the closing one doesnt match the top of stack, it means that eg: \"....{\" and \"]\" - is not a valid pair\n",
    "        else:\n",
    "            stack.append(ch) # we directly append it if its the opening brac... i.e not there in our k-v pair's key\n",
    "        \n",
    "    \n",
    "    return False if stack else True #if stack is empty then its a valid string \n",
    "        \n",
    "s = \"()[]{}\"\n",
    "print(isValid(s))\n",
    "\n",
    "s = \"(]\"\n",
    "print(isValid(s))\n",
    "\n",
    "s = \"([)]\"\n",
    "print(isValid(s))"
   ]
  },
  {
   "cell_type": "markdown",
   "id": "96933b69",
   "metadata": {},
   "source": [
    "## Min Stack"
   ]
  },
  {
   "cell_type": "code",
   "execution_count": null,
   "id": "7d1bc195",
   "metadata": {},
   "outputs": [],
   "source": [
    "# Neetcode-150 22/150 https://leetcode.com/problems/min-stack/description/\n",
    "# Min Stack\n",
    "\n",
    "class MinStack:\n",
    "    def __init__(self):\n",
    "        self.stack = []\n",
    "        self.minStack = []\n",
    "\n",
    "    def push(self, val: int) -> None:\n",
    "        self.stack.append(val)\n",
    "        val = min(val, self.minStack[-1] if self.minStack else val)\n",
    "        self.minStack.append(val)\n",
    "\n",
    "    def pop(self) -> None:\n",
    "        self.stack.pop()\n",
    "        self.minStack.pop()\n",
    "\n",
    "    def top(self) -> int:\n",
    "        return self.stack[-1]\n",
    "\n",
    "    def getMin(self) -> int:\n",
    "        return self.minStack[-1]\n",
    "\n",
    "\n",
    "# Your MinStack object will be instantiated and called as such:\n",
    "# obj = MinStack()\n",
    "# obj.push(val)\n",
    "# obj.pop()\n",
    "# param_3 = obj.top()\n",
    "# param_4 = obj.getMin()\n",
    "\n"
   ]
  },
  {
   "cell_type": "markdown",
   "id": "16586c33",
   "metadata": {},
   "source": [
    "## Evaluate Reverse Polish Notation"
   ]
  },
  {
   "cell_type": "code",
   "execution_count": null,
   "id": "42080bf7",
   "metadata": {},
   "outputs": [],
   "source": [
    "# Neetcode-150 23/150 https://leetcode.com/problems/evaluate-reverse-polish-notation/description/\n",
    "from typing import List\n",
    "\n",
    "\n",
    "# this question is basically postfix notation\n",
    "\n",
    "def evalRPN(tokens: List[str]) -> int:\n",
    "    stack = []\n",
    "\n",
    "    for c in tokens:\n",
    "        if c == \"+\":\n",
    "            stack.append(stack.pop() + stack.pop()) # if we encounter +, we pop the top two elements and add them\n",
    "        elif c == \"-\":\n",
    "            x, y = stack.pop(), stack.pop() # if we encounter -, we pop the top two elements, and subtract\n",
    "            stack.append(y - x)\n",
    "        elif c == '*':\n",
    "            stack.append(stack.pop() * stack.pop()) # if we encounter *, we pop the top two elements and multiply\n",
    "        elif c == '/':\n",
    "            x, y = stack.pop(), stack.pop() # if we encounter /, we pop the top two elements, and divide\n",
    "            stack.append(int(float(y) / x))\n",
    "        else:\n",
    "            stack.append(int(c)) # if its a number, we append it to the stack\n",
    "    return stack[0]\n",
    "\n",
    "\n",
    "tokens = [\"2\",\"1\",\"+\",\"3\",\"*\"]\n",
    "print(evalRPN(tokens))\n",
    "\n",
    "tokens = [\"4\",\"13\",\"5\",\"/\",\"+\"]\n",
    "print(evalRPN(tokens))\n",
    "\n",
    "tokens = [\"10\",\"6\",\"9\",\"3\",\"+\",\"-11\",\"*\",\"/\",\"*\",\"17\",\"+\",\"5\",\"+\"]\n",
    "print(evalRPN(tokens))"
   ]
  },
  {
   "cell_type": "markdown",
   "id": "441fec3d",
   "metadata": {},
   "source": [
    "## Generate Parentheses"
   ]
  },
  {
   "cell_type": "code",
   "execution_count": null,
   "id": "836822cc",
   "metadata": {},
   "outputs": [],
   "source": [
    "# Neetcode-150 24/150 https://leetcode.com/problems/generate-parentheses/\n",
    "\n",
    "from typing import List\n",
    "\n",
    "def generateParenthesis(n: int) -> List[str]:\n",
    "    stack = []\n",
    "    res = []\n",
    "\n",
    "    def backtrack(openN, closedN):\n",
    "        if openN == closedN == n: # last condition, which is if all satisfied, then we take the stack and convert it to string and append it into the res\n",
    "            res.append(\"\".join(stack))\n",
    "            return\n",
    "\n",
    "        if openN < n: # if open bracs are less than n\n",
    "            stack.append(\"(\") # append an opening brac\n",
    "            backtrack(openN + 1, closedN) #recursively call the function with saying that we have one more open brac\n",
    "            stack.pop() # we pop to go back to our previous state\n",
    "        if closedN < openN: # similarly we check for closed bracs\n",
    "            stack.append(\")\")\n",
    "            backtrack(openN, closedN + 1)\n",
    "            stack.pop()\n",
    "\n",
    "    backtrack(0, 0) # we start with 0 open and 0 closed brackets\n",
    "    return res\n",
    "\n",
    "n = 3\n",
    "print(generateParenthesis(n))\n",
    "\n",
    "n = 1\n",
    "print(generateParenthesis(n))"
   ]
  },
  {
   "cell_type": "markdown",
   "id": "eb458695",
   "metadata": {},
   "source": [
    "## Daily Temperatures"
   ]
  },
  {
   "cell_type": "code",
   "execution_count": null,
   "id": "491209e6",
   "metadata": {},
   "outputs": [],
   "source": [
    "# Neetcode-150 25/150 https://leetcode.com/problems/daily-temperatures/\n",
    "\n",
    "from typing import List\n",
    "\n",
    "def dailyTemperatures(temperatures: List[int]) -> List[int]:\n",
    "    stack = []\n",
    "    output = [0] * len(temperatures)\n",
    "\n",
    "    for i, t in enumerate(temperatures): # we iterate through the temperatures\n",
    "\n",
    "        while stack and t > stack[-1][1]: #the top[-1] element temp[1]\n",
    "            ind, temp = stack.pop() # if the curr temp is greater than the top temp, we pop it, and find the diff of the indexes\n",
    "            output[ind] = i - ind # and save it in the output, on the popped index\n",
    "            \n",
    "            # so for [73,74,.....] we will have in output [1, .......] since 74 is 1 step away than 73. 1 is saved in 0th position\n",
    "\n",
    "        stack.append((i, t)) # we append the temp and index\n",
    "\n",
    "    return output\n",
    "\n",
    "temperatures = [73,74,75,71,69,72,76,73]\n",
    "print(dailyTemperatures(temperatures))"
   ]
  },
  {
   "cell_type": "markdown",
   "id": "eb8aa0d0",
   "metadata": {},
   "source": [
    "## Car Fleet"
   ]
  },
  {
   "cell_type": "code",
   "execution_count": 11,
   "id": "dc081f0e",
   "metadata": {},
   "outputs": [
    {
     "name": "stdout",
     "output_type": "stream",
     "text": [
      "Sorted(desc) pairs: [(10, 2), (8, 4), (5, 1), (3, 3), (0, 1)]\n",
      "3\n",
      "Sorted(desc) pairs: [(4, 1), (2, 2), (0, 4)]\n",
      "1\n"
     ]
    }
   ],
   "source": [
    "# Neetcode-150 26/150 https://leetcode.com/problems/car-fleet/description/\n",
    "\n",
    "from typing import List\n",
    "\n",
    "def carFleet(target: int, position: List[int], speed: List[int]) -> int:\n",
    "    if len(position) < 2: # if there is just 1 car, then only 1 fleet\n",
    "        return 1\n",
    "    else:\n",
    "        pair = [(p, s) for p, s in zip(position, speed)] # we zip the position and speed\n",
    "        pair.sort(reverse=True) # we sort them in descending order\n",
    "        \n",
    "        print(f\"Sorted(desc) pairs: {pair}\")\n",
    "        stack=[]\n",
    "        \n",
    "        # what we are going to do is that, we will calculate the time taken for each car to reach the target, and append in the stack.\n",
    "        # if the top of stack is greater than the next one, we pop it.\n",
    "        \n",
    "        #[car1]>........[car2]>......{target}\n",
    "        # if car1 is faster, then it will take less time to reach target compared to car2, hence they will be a fleet with speed of slower car i.e car2\n",
    "\n",
    "        for p, s in pair:  # Reverse Sorted Order\n",
    "            stack.append((target - p) / s) # we calculate the time taken for each car to reach the target, and append in the stack.\n",
    "            if len(stack) >= 2 and stack[-1] <= stack[-2]: # checking if curr car time is less to reach the target than prev car\n",
    "                stack.pop() # if it is, then we pop it\n",
    "        \n",
    "        return len(stack)\n",
    "    \n",
    "\n",
    "target = 12\n",
    "position = [10,8,0,5,3]\n",
    "speed = [2,4,1,1,3]\n",
    "print(carFleet(target, position, speed))\n",
    "\n",
    "target = 100\n",
    "position = [0,2,4]\n",
    "speed = [4,2,1]\n",
    "print(carFleet(target, position, speed))"
   ]
  },
  {
   "cell_type": "markdown",
   "id": "55f3bc6d",
   "metadata": {},
   "source": [
    "## Largest Rectangle In Histogram"
   ]
  },
  {
   "cell_type": "code",
   "execution_count": null,
   "id": "441a7703",
   "metadata": {},
   "outputs": [
    {
     "name": "stdout",
     "output_type": "stream",
     "text": [
      "10\n",
      "4\n"
     ]
    }
   ],
   "source": [
    "# Neetcode-150 27/150 https://leetcode.com/problems/largest-rectangle-in-histogram\n",
    "\n",
    "def largestRectangleArea(heights: List[int]) -> int:\n",
    "    mArea = 0\n",
    "    stack = []\n",
    "\n",
    "    for idx, height in enumerate(heights):\n",
    "        \n",
    "        #saving the index, will use later\n",
    "        prev = idx\n",
    "\n",
    "        # some condition\n",
    "        # when all are in desc order\n",
    "        while stack and stack[-1][1] > height: #if new element height is less than stack top,\n",
    "            # do something? area related\n",
    "            pIdx, pHeight = stack.pop() #pop that bar, find its area next\n",
    "            mArea = max(mArea, pHeight * (idx - pIdx)) # the area will be that bar's height x the diff between indexes\n",
    "            prev = pIdx # since the new bar is shorter, we want to dissolve it with the current bar....\n",
    "\n",
    "        # stack.append((idx, height))\n",
    "        stack.append((prev, height)) #...and then add it in the stack\n",
    "        # print(stack)\n",
    "\n",
    "    # if all in asc order, then it is height x the length it goes to till end from that start bar\n",
    "    for idx, height in stack:\n",
    "        mArea = max(mArea, (len(heights) - idx) * height)\n",
    "\n",
    "    return mArea\n",
    "\n",
    "heights = [2,1,5,6,2,3]\n",
    "print(largestRectangleArea(heights))\n",
    "\n",
    "heights = [2,4]\n",
    "print(largestRectangleArea(heights))"
   ]
  }
 ],
 "metadata": {
  "kernelspec": {
   "display_name": "Python 3",
   "language": "python",
   "name": "python3"
  },
  "language_info": {
   "codemirror_mode": {
    "name": "ipython",
    "version": 3
   },
   "file_extension": ".py",
   "mimetype": "text/x-python",
   "name": "python",
   "nbconvert_exporter": "python",
   "pygments_lexer": "ipython3",
   "version": "3.13.5"
  }
 },
 "nbformat": 4,
 "nbformat_minor": 5
}
