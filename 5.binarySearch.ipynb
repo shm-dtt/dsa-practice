{
 "cells": [
  {
   "cell_type": "markdown",
   "id": "65efaa20",
   "metadata": {},
   "source": [
    "# Binary Search"
   ]
  },
  {
   "cell_type": "markdown",
   "id": "00bb5e67",
   "metadata": {},
   "source": [
    "## Binary Search "
   ]
  },
  {
   "cell_type": "code",
   "execution_count": 10,
   "id": "7a08a0b7",
   "metadata": {},
   "outputs": [],
   "source": [
    "# Neetcode 28/150 https://leetcode.com/problems/binary-search/\n",
    "\n",
    "# simple binary search logic\n",
    "\n",
    "from typing import List\n",
    "\n",
    "def search(nums: List[int], target: int) -> int:\n",
    "    low, high = 0, len(nums) - 1\n",
    "\n",
    "    while low <= high:\n",
    "        mid = (low + high) // 2\n",
    "\n",
    "        if nums[mid] == target:\n",
    "            return mid\n",
    "        elif nums[mid] > target:\n",
    "            high = mid - 1\n",
    "        else:\n",
    "            low = mid + 1\n",
    "\n",
    "    return -1"
   ]
  },
  {
   "cell_type": "markdown",
   "id": "9507e338",
   "metadata": {},
   "source": [
    "## Search a 2D Matrix"
   ]
  },
  {
   "cell_type": "code",
   "execution_count": 11,
   "id": "1f20fb68",
   "metadata": {},
   "outputs": [],
   "source": [
    "# Neetcode 29/150 https://leetcode.com/problems/search-a-2d-matrix/\n",
    "\n",
    "from typing import List\n",
    "\n",
    "def searchMatrix( matrix: List[List[int]], target: int) -> bool:\n",
    "    m, n = len(matrix), len(matrix[0]) # we get the number of rows and columns\n",
    "    left, right = 0, m * n - 1 # we assign left as 0 and right as the number of elements in the matrix - 1\n",
    "    # this assumption is to visualize the 2D matrix as a 1D array\n",
    "    \n",
    "    while left <= right:\n",
    "        mid = (left + right) // 2\n",
    "        midR, midC = mid // n, mid % n\n",
    "\n",
    "        if matrix[midR][midC] == target:\n",
    "            return True\n",
    "        elif matrix[midR][midC] < target:\n",
    "            left = mid + 1\n",
    "        else:\n",
    "            right = mid - 1\n",
    "\n",
    "    return False"
   ]
  },
  {
   "cell_type": "markdown",
   "id": "f4f9ab6a",
   "metadata": {},
   "source": [
    "## Koko Eating Bananas"
   ]
  },
  {
   "cell_type": "code",
   "execution_count": 12,
   "id": "03eaaa4e",
   "metadata": {},
   "outputs": [],
   "source": [
    "# Neetcode 30/150 https://leetcode.com/problems/koko-eating-bananas/\n",
    "\n",
    "from math import ceil\n",
    "from typing import List\n",
    "\n",
    "def minEatingSpeed(piles: List[int], h: int) -> int:\n",
    "    sumPiles = sum(piles)\n",
    "\n",
    "    # low = 1\n",
    "    # high = max(piles)\n",
    "\n",
    "    low = ceil(sumPiles/h)\n",
    "    high = max(piles)\n",
    "\n",
    "    # low = ceil(sumPiles/h)\n",
    "    # high = ceil(sumPiles/ (h - len(piles) +1))\n",
    "\n",
    "    while low <= high:\n",
    "        mid = (low + high) // 2\n",
    "\n",
    "        totalHours = 0\n",
    "        for pile in piles:\n",
    "            totalHours += ceil(pile / mid)\n",
    "\n",
    "        if totalHours > h:\n",
    "            low = mid + 1\n",
    "        else:\n",
    "            high = mid - 1\n",
    "\n",
    "    return low\n"
   ]
  },
  {
   "cell_type": "markdown",
   "id": "ad9a0b75",
   "metadata": {},
   "source": [
    "## Find Minimum in Rotated Sorted Array"
   ]
  },
  {
   "cell_type": "code",
   "execution_count": 13,
   "id": "b77efad0",
   "metadata": {},
   "outputs": [],
   "source": [
    "# Neetcode 31/150 https://leetcode.com/problems/find-minimum-in-rotated-sorted-array/\n",
    "\n",
    "from typing import List\n",
    "\n",
    "def findMin(nums: List[int]) -> int:\n",
    "    low = 0\n",
    "    high = len(nums) - 1\n",
    "\n",
    "    while low < high:\n",
    "        mid = (low + high) // 2\n",
    "\n",
    "        if nums[mid] <= nums[high]:\n",
    "            high = mid\n",
    "        else:\n",
    "            low = mid + 1\n",
    "\n",
    "    return nums[low]"
   ]
  },
  {
   "cell_type": "markdown",
   "id": "46e67ce7",
   "metadata": {},
   "source": [
    "## Search in Rotated Sorted Array"
   ]
  },
  {
   "cell_type": "code",
   "execution_count": 14,
   "id": "5fe4e467",
   "metadata": {},
   "outputs": [],
   "source": [
    "# Neetcode 32/150 https://leetcode.com/problems/search-in-rotated-sorted-array/\n",
    "\n",
    "from typing import List\n",
    "\n",
    "def search(nums: List[int], target: int) -> int:\n",
    "        low = 0\n",
    "        high = len(nums) - 1\n",
    "\n",
    "        while low <= high:\n",
    "            mid = (low + high) // 2\n",
    "\n",
    "            if nums[mid] == target:\n",
    "                return mid\n",
    "            elif nums[low] <= nums[mid]:\n",
    "                if nums[low] <= target <= nums[mid]:\n",
    "                    high = mid - 1\n",
    "                else:\n",
    "                    low = mid + 1\n",
    "            else:\n",
    "                if nums[mid] <= target <= nums[high]:\n",
    "                    low = mid + 1\n",
    "                else:\n",
    "                    high = mid - 1\n",
    "                \n",
    "        return -1\n"
   ]
  },
  {
   "cell_type": "markdown",
   "id": "d2f060ed",
   "metadata": {},
   "source": [
    "## Time Based Key-Value Store"
   ]
  },
  {
   "cell_type": "code",
   "execution_count": 15,
   "id": "3feba3af",
   "metadata": {},
   "outputs": [],
   "source": [
    "# Neetcode 33/150 https://leetcode.com/problems/time-based-key-value-store/\n",
    "\n",
    "class TimeMap:\n",
    "\n",
    "    def __init__(self):\n",
    "        self.store = {}\n",
    "\n",
    "    def set(self, key: str, value: str, timestamp: int) -> None:\n",
    "        if key not in self.store:\n",
    "            self.store[key] = []\n",
    "        self.store[key].append([value, timestamp])\n",
    "\n",
    "    def get(self, key: str, timestamp: int) -> str:\n",
    "        res, values = \"\", self.store.get(key, [])\n",
    "        l, r = 0, len(values) - 1\n",
    "        while l <= r:\n",
    "            m = (l + r) // 2\n",
    "            if values[m][1] <= timestamp:\n",
    "                res = values[m][0]\n",
    "                l = m + 1\n",
    "            else:\n",
    "                r = m - 1\n",
    "        return res\n"
   ]
  },
  {
   "cell_type": "markdown",
   "id": "07498f96",
   "metadata": {},
   "source": [
    "## Median of Two Sorted Arrays"
   ]
  },
  {
   "cell_type": "code",
   "execution_count": 16,
   "id": "7b75d808",
   "metadata": {},
   "outputs": [
    {
     "name": "stdout",
     "output_type": "stream",
     "text": [
      "2\n"
     ]
    }
   ],
   "source": [
    "# Neetcode 34/150 https://leetcode.com/problems/median-of-two-sorted-arrays/\n",
    "\n",
    "import statistics as stat\n",
    "from typing import List\n",
    "\n",
    "def findMedianSortedArrays(nums1: List[int], nums2: List[int]) -> float:\n",
    "    return stat.median(sorted(nums1 + nums2))\n",
    "\n",
    "nums1 = [1,3]\n",
    "nums2 = [2]\n",
    "\n",
    "print(findMedianSortedArrays(nums1, nums2))"
   ]
  }
 ],
 "metadata": {
  "kernelspec": {
   "display_name": "Python 3",
   "language": "python",
   "name": "python3"
  },
  "language_info": {
   "codemirror_mode": {
    "name": "ipython",
    "version": 3
   },
   "file_extension": ".py",
   "mimetype": "text/x-python",
   "name": "python",
   "nbconvert_exporter": "python",
   "pygments_lexer": "ipython3",
   "version": "3.13.5"
  }
 },
 "nbformat": 4,
 "nbformat_minor": 5
}
