{
 "cells": [
  {
   "cell_type": "markdown",
   "id": "65efaa20",
   "metadata": {},
   "source": [
    "# Binary Search"
   ]
  },
  {
   "cell_type": "markdown",
   "id": "00bb5e67",
   "metadata": {},
   "source": [
    "## Binary Search "
   ]
  },
  {
   "cell_type": "code",
   "execution_count": null,
   "id": "7a08a0b7",
   "metadata": {},
   "outputs": [],
   "source": [
    "# Neetcode 28/150 https://leetcode.com/problems/binary-search/\n",
    "\n",
    "# simple binary search logic\n",
    "\n",
    "from typing import List\n",
    "\n",
    "def search(nums: List[int], target: int) -> int:\n",
    "    low, high = 0, len(nums) - 1\n",
    "\n",
    "    while low <= high:\n",
    "        mid = (low + high) // 2\n",
    "\n",
    "        if nums[mid] == target:\n",
    "            return mid\n",
    "        elif nums[mid] > target:\n",
    "            high = mid - 1\n",
    "        else:\n",
    "            low = mid + 1\n",
    "\n",
    "    return -1"
   ]
  },
  {
   "cell_type": "markdown",
   "id": "9507e338",
   "metadata": {},
   "source": [
    "## Search a 2D Matrix"
   ]
  },
  {
   "cell_type": "code",
   "execution_count": null,
   "id": "1f20fb68",
   "metadata": {},
   "outputs": [],
   "source": [
    "# Neetcode 29/150 https://leetcode.com/problems/search-a-2d-matrix/\n",
    "\n",
    "from typing import List\n",
    "\n",
    "def searchMatrix( matrix: List[List[int]], target: int) -> bool:\n",
    "    m, n = len(matrix), len(matrix[0])\n",
    "    left, right = 0, m * n - 1\n",
    "\n",
    "    while left <= right:\n",
    "        mid = (left + right) // 2\n",
    "        midR, midC = mid // n, mid % n\n",
    "\n",
    "        if matrix[midR][midC] == target:\n",
    "            return True\n",
    "        elif matrix[midR][midC] < target:\n",
    "            left = mid + 1\n",
    "        else:\n",
    "            right = mid - 1\n",
    "\n",
    "    return False"
   ]
  },
  {
   "cell_type": "markdown",
   "id": "f4f9ab6a",
   "metadata": {},
   "source": [
    "## Koko Eating Bananas"
   ]
  },
  {
   "cell_type": "code",
   "execution_count": null,
   "id": "03eaaa4e",
   "metadata": {},
   "outputs": [],
   "source": [
    "# Neetcode 30/150 https://leetcode.com/problems/koko-eating-bananas/\n",
    "\n",
    "from math import ceil\n",
    "from typing import List\n",
    "\n",
    "def minEatingSpeed(piles: List[int], h: int) -> int:\n",
    "    sumPiles = sum(piles)\n",
    "\n",
    "    # low = 1\n",
    "    # high = max(piles)\n",
    "\n",
    "    low = ceil(sumPiles/h)\n",
    "    high = max(piles)\n",
    "\n",
    "    # low = ceil(sumPiles/h)\n",
    "    # high = ceil(sumPiles/ (h - len(piles) +1))\n",
    "\n",
    "    while low <= high:\n",
    "        mid = (low + high) // 2\n",
    "\n",
    "        totalHours = 0\n",
    "        for pile in piles:\n",
    "            totalHours += ceil(pile / mid)\n",
    "\n",
    "        if totalHours > h:\n",
    "            low = mid + 1\n",
    "        else:\n",
    "            high = mid - 1\n",
    "\n",
    "    return low\n"
   ]
  }
 ],
 "metadata": {
  "kernelspec": {
   "display_name": "Python 3",
   "language": "python",
   "name": "python3"
  },
  "language_info": {
   "codemirror_mode": {
    "name": "ipython",
    "version": 3
   },
   "file_extension": ".py",
   "mimetype": "text/x-python",
   "name": "python",
   "nbconvert_exporter": "python",
   "pygments_lexer": "ipython3",
   "version": "3.13.5"
  }
 },
 "nbformat": 4,
 "nbformat_minor": 5
}
