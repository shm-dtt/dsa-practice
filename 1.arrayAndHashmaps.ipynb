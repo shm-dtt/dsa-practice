{
 "cells": [
  {
   "cell_type": "markdown",
   "id": "02c75797",
   "metadata": {},
   "source": [
    "# Arrays and Hashmaps\n",
    "Note: Whenever you see an array, throw a set/hashmap to it, something usefull will always come up\n",
    "\n",
    "- Set/HashSet for O(1) lookup\n",
    "- Does it ask for count/frequency? → HashMap\n",
    "- Dictionary: For counting, mapping, or storing key-value relationships\n",
    "- DefaultDict: When you need to avoid key errors during counting\n",
    "- Does it ask for count/frequency? → HashMap\n",
    "- Grouping words/numbers? → HashMap of key → list\n",
    "\n",
    "- Optimization hint: O(n) vs O(n²)? → Almost always hash-based trick"
   ]
  },
  {
   "cell_type": "markdown",
   "id": "dcd01de0",
   "metadata": {},
   "source": [
    "## Contains Duplicate"
   ]
  },
  {
   "cell_type": "code",
   "execution_count": 1,
   "id": "e1f6ceb2",
   "metadata": {},
   "outputs": [
    {
     "name": "stdout",
     "output_type": "stream",
     "text": [
      "True\n",
      "False\n"
     ]
    }
   ],
   "source": [
    "# Neetcode-150 1/150 https://leetcode.com/problems/contains-duplicate/\n",
    "# Contains Duplicate ? from a list of nums\n",
    "\n",
    "# Apply a set, if the length of the set is less than the length of the list, then there are duplicates\n",
    "# Time Complexity: O(n), Space Complexity: O(n)\n",
    "\n",
    "def contains_duplicate(nums):\n",
    "    seen = set(nums)\n",
    "    return len(nums) > len(seen)\n",
    "\n",
    "nums = [1, 2, 3, 4, 5, 1]\n",
    "print(contains_duplicate(nums))  # Output: True\n",
    "nums = [1, 2, 3, 4, 5]\n",
    "print(contains_duplicate(nums))  # Output: False    "
   ]
  },
  {
   "cell_type": "markdown",
   "id": "ed480640",
   "metadata": {},
   "source": [
    "## Valid Anagram"
   ]
  },
  {
   "cell_type": "code",
   "execution_count": 2,
   "id": "d54dcb27",
   "metadata": {},
   "outputs": [
    {
     "name": "stdout",
     "output_type": "stream",
     "text": [
      "True\n",
      "False\n"
     ]
    }
   ],
   "source": [
    "# Neetcode-150 2/150 https://leetcode.com/problems/valid-anagram/\n",
    "# Valid Anagram ? from two strings\n",
    "\n",
    "# Use map to get count of each character in both strings\n",
    "# Time Complexity: O(n)\n",
    "# Space Complexity: O(1) since we are using a fixed size map for 26 letters\n",
    "\n",
    "# take two strings and get their count of each character\n",
    "# if the counts are the same, then the strings are anagrams\n",
    "\n",
    "def isAnagram(s: str, t: str) -> bool:\n",
    "\n",
    "    if len(s) != len(t):\n",
    "        return False\n",
    "    \n",
    "    countS, countT = {}, {}\n",
    "\n",
    "    for i in range(len(s)):\n",
    "        countS[s[i]] = 1 + countS.get(s[i],0)\n",
    "        countT[t[i]] = 1 + countT.get(t[i],0)\n",
    "\n",
    "    return countS == countT \n",
    "\n",
    "s = \"anagram\"\n",
    "t = \"nagaram\"\n",
    "print(isAnagram(s, t))  # Output: True\n",
    "\n",
    "s = \"rat\"\n",
    "t = \"ca\"\n",
    "print(isAnagram(s, t))  # Output: False"
   ]
  },
  {
   "cell_type": "markdown",
   "id": "f4db05ef",
   "metadata": {},
   "source": [
    "## Two Sum"
   ]
  },
  {
   "cell_type": "code",
   "execution_count": 3,
   "id": "89ec93d4",
   "metadata": {},
   "outputs": [
    {
     "name": "stdout",
     "output_type": "stream",
     "text": [
      "[0, 1]\n"
     ]
    }
   ],
   "source": [
    "# Neetcode-150 3/150 https://leetcode.com/problems/two-sum/\n",
    "# Two Sum ? Return indices of the two numbers such that they add up to a specific target.\n",
    "\n",
    "# Time - O(n) cuz we go over the list once\n",
    "# Space - O(n) we make a map for the whole list\n",
    "\n",
    "# go over all elements in the list, and for each element, check if the complement (target - num) exists in the map\n",
    "# if it does, return the indices of the current element and the complement\n",
    "# if it doesn't, add the current element to the map\n",
    "\n",
    "def twoSum(nums, target):\n",
    "    num_map = {}\n",
    "    for i, num in enumerate(nums):\n",
    "        complement = target - num\n",
    "        if complement in num_map:\n",
    "            return [num_map[complement], i]\n",
    "        num_map[num] = i\n",
    "    return []    \n",
    "\n",
    "nums = [2, 7, 11, 15]\n",
    "target = 9\n",
    "print(twoSum(nums, target))  # Output: [0, 1]   "
   ]
  },
  {
   "cell_type": "markdown",
   "id": "9428549f",
   "metadata": {},
   "source": [
    "## Group Anagrams"
   ]
  },
  {
   "cell_type": "code",
   "execution_count": 4,
   "id": "015fd85f",
   "metadata": {},
   "outputs": [
    {
     "name": "stdout",
     "output_type": "stream",
     "text": [
      "[['eat', 'tea', 'ate'], ['tan', 'nat'], ['bat']]\n"
     ]
    }
   ],
   "source": [
    "# Neetcode-150 4/150 https://leetcode.com/problems/group-anagrams/\n",
    "# Group Anagrams ? from a list of strings\n",
    "# Time Complexity: O(n * k) where n is the number of strings and k is the maximum length of a string\n",
    "# Space Complexity: O(n * k) for the result storage\n",
    "\n",
    "# make a dict, keep count of chars in a str, then use that count as a key to group anagrams together\n",
    "\n",
    "from collections import defaultdict\n",
    "from typing import List\n",
    "\n",
    "def groupAnagrams(strs: List[str]) -> List[List[str]]:\n",
    "    res = defaultdict(list)\n",
    "    for s in strs:\n",
    "        count = [0]*26\n",
    "        for c in s:\n",
    "            count[ord(c) - ord('a')] +=1\n",
    "        res[tuple(count)].append(s)\n",
    "    \n",
    "    return list(res.values())\n",
    "\n",
    "# Example usage\n",
    "strs = [\"eat\", \"tea\", \"tan\", \"ate\", \"nat\", \"bat\"]\n",
    "print(groupAnagrams(strs))  # Output: [['eat', 'tea', 'ate'], ['tan', 'nat'], ['bat']]"
   ]
  },
  {
   "cell_type": "markdown",
   "id": "5da3f1b3",
   "metadata": {},
   "source": [
    "## Top K Frequent Elements"
   ]
  },
  {
   "cell_type": "code",
   "execution_count": 5,
   "id": "e4e07664",
   "metadata": {},
   "outputs": [
    {
     "name": "stdout",
     "output_type": "stream",
     "text": [
      "[1, 2]\n"
     ]
    }
   ],
   "source": [
    "# Bind150 5/150 https://leetcode.com/problems/top-k-frequent-elements/\n",
    "# Top K Frequent Elements ? from a list of nums\n",
    "\n",
    "# take a map to count the frequency of each element\n",
    "# then create a list of lists, where the index is the frequency and the value is the number\n",
    "from typing import List\n",
    "\n",
    "def topKFrequent (nums: List[int], k: int) -> List[int]:\n",
    "    count = {} \n",
    "    freq = [[] for i in range(len(nums) + 1)]\n",
    "\n",
    "    for n in nums:\n",
    "        count[n] = 1 + count.get(n, 0) # {1: 3, 2: 2, 3: 1}\n",
    "\n",
    "    for n, c in count.items():\n",
    "        freq[c].append(n)  # [[], [3], [2], [1], [], [], []]\n",
    "    # notice 1 is in the 3rd index, meaning it appears 3 times in the list\n",
    "\n",
    "    res = []\n",
    "    for i in range(len(freq) - 1, 0, -1): # start from the end, go backwards\n",
    "        for n in freq[i]: # getting the value\n",
    "            res.append(n)\n",
    "            if len(res) == k:\n",
    "                return res\n",
    "\n",
    "\n",
    "nums = [1, 1, 1, 2, 2, 3]\n",
    "k = 2\n",
    "print(topKFrequent(nums, k))  # Output: [1, 2]"
   ]
  },
  {
   "cell_type": "markdown",
   "id": "d2c6cac3",
   "metadata": {},
   "source": [
    "## Encode and Decode Strings"
   ]
  },
  {
   "cell_type": "code",
   "execution_count": 6,
   "id": "0aae0ffe",
   "metadata": {},
   "outputs": [
    {
     "name": "stdout",
     "output_type": "stream",
     "text": [
      "4#neet4#code4#love3#you\n",
      "['neet', 'code', 'love', 'you']\n",
      "2#we3#say1#:3#yes\n",
      "['we', 'say', ':', 'yes']\n"
     ]
    }
   ],
   "source": [
    "#Neetcode- 150 6/150 https://leetcode.com/problems/encode-and-decode-strings/\n",
    "# Encode and Decode Strings ? from a list of strings\n",
    "\n",
    "# To encode, we can concatenate each string with its length and a delimiter\n",
    "# To decode, we can split the string by the delimiter and reconstruct the original strings\n",
    "from typing import List\n",
    "\n",
    "def encode(strs: List[str]) -> str:\n",
    "    res = \"\"\n",
    "    for s in strs:\n",
    "        res += str(len(s)) + \"#\" + s\n",
    "    return res\n",
    "\n",
    "def decode(s: str) -> List[str]:\n",
    "    res = []\n",
    "    i = 0\n",
    "    \n",
    "    while i < len(s):\n",
    "        j = i\n",
    "        while s[j] != '#':\n",
    "            j += 1\n",
    "        length = int(s[i:j])\n",
    "        i = j + 1\n",
    "        j = i + length\n",
    "        res.append(s[i:j])\n",
    "        i = j\n",
    "        \n",
    "    return res\n",
    "\n",
    "strs = [\"neet\",\"code\",\"love\",\"you\"]\n",
    "encoded = encode(strs)\n",
    "print(encoded)  # Output: \"4#neet4#code4#love3#you\"\n",
    "decoded = decode(encoded)\n",
    "print(decoded)  # Output: [\"neet\",\"code\",\"love\",\"you\"]\n",
    "\n",
    "strs = [\"we\",\"say\",\":\",\"yes\"]\n",
    "encoded = encode(strs)\n",
    "print(encoded)  # Output: \"2#we3#say1#:3#yes\n",
    "decoded = decode(encoded)\n",
    "print(decoded)  # Output: [\"we\",\"say\",\":\",\"yes\"]"
   ]
  },
  {
   "cell_type": "markdown",
   "id": "2fdc2199",
   "metadata": {},
   "source": [
    "## Product of Array Except Self "
   ]
  },
  {
   "cell_type": "code",
   "execution_count": 7,
   "id": "30035c5c",
   "metadata": {},
   "outputs": [
    {
     "name": "stdout",
     "output_type": "stream",
     "text": [
      "[24, 12, 8, 6]\n",
      "[0, 0, 9, 0, 0]\n"
     ]
    }
   ],
   "source": [
    "# Neetcode- 150 7/150 https://leetcode.com/problems/product-of-array-except-self/\n",
    "# Product of Array Except Self ? from a list of nums\n",
    "\n",
    "# We can use two passes, one for the prefix product and one for the postfix product\n",
    "# for each element, we technically have to get the product of its elements to the left and right\n",
    "\n",
    "from typing import List\n",
    "\n",
    "def productExceptSelf(nums: List[int]) -> List[int]:\n",
    "    res = [1] * len(nums)\n",
    "\n",
    "    prefix = 1\n",
    "    for i in range(len(nums)):\n",
    "        res[i] = prefix\n",
    "        prefix *= nums[i]\n",
    "\n",
    "    # print(res) # [1, 1, 2, 6] or [1, -1, -1, 0, 0]\n",
    "    postfix = 1\n",
    "    for i in range(len(nums) - 1, -1, -1):\n",
    "        res[i] *= postfix\n",
    "        postfix *= nums[i]\n",
    "    return res\n",
    "\n",
    "#[1, 1, 2, 6] X [24, 12, 4, 1]\n",
    "# = [24, 12, 8, 6]\n",
    "\n",
    "nums = [1,2,3,4]\n",
    "print(productExceptSelf(nums))  # Output: [24, 12, 8, 6]\n",
    "nums = [-1,1,0,-3,3]\n",
    "print(productExceptSelf(nums))  # Output: [0, 0, 9, 0, 0]"
   ]
  },
  {
   "cell_type": "markdown",
   "id": "de893b09",
   "metadata": {},
   "source": [
    "## Longest Consecutive Sequence"
   ]
  },
  {
   "cell_type": "code",
   "execution_count": 8,
   "id": "865ef852",
   "metadata": {},
   "outputs": [
    {
     "name": "stdout",
     "output_type": "stream",
     "text": [
      "4\n",
      "9\n"
     ]
    }
   ],
   "source": [
    "# Neetcode- 150 8/150 https://leetcode.com/problems/longest-consecutive-sequence/\n",
    "# Longest Consecutive Sequence ? from a list of nums\n",
    "# we will put the list in set for constant lookup time\n",
    "# then we will iterate through the set, and for each number, we will check if it is the start of a sequence\n",
    "# if it is, we will count the length of the sequence by checking if the next number is in the set\n",
    "\n",
    "\n",
    "from typing import List\n",
    "\n",
    "\n",
    "def longestConsecutive(nums: List[int]) -> int:\n",
    "    s = set(nums)\n",
    "    longest = 0\n",
    "\n",
    "    for i in s:\n",
    "        if (i - 1) not in s:\n",
    "            length = 1\n",
    "            while (i + length) in s:\n",
    "                length += 1\n",
    "            longest = max(longest, length)\n",
    "\n",
    "    return longest\n",
    "\n",
    "nums = [100, 4, 200, 1, 3, 2]\n",
    "print(longestConsecutive(nums))  # Output: 4 (1, 2, 3, 4)\n",
    "nums = [0, 3, 7, 2, 5, 8, 4, 6, 0, 1]\n",
    "print(longestConsecutive(nums))  # Output: 9 (0, 1, 2, 3, 4, 5, 6, 7, 8)"
   ]
  },
  {
   "cell_type": "markdown",
   "id": "a25f8aac",
   "metadata": {},
   "source": [
    "## Valid Sudoku"
   ]
  },
  {
   "cell_type": "code",
   "execution_count": 9,
   "id": "6ecfa71c",
   "metadata": {},
   "outputs": [
    {
     "name": "stdout",
     "output_type": "stream",
     "text": [
      "Rows: \n",
      "defaultdict(<class 'set'>, {0: {'3', '5', '7'}, 1: {'9', '5', '1', '6'}, 2: {'9', '6', '8'}, 3: {'3', '6', '8'}, 4: {'3', '8', '1', '4'}, 5: {'7', '2', '6'}, 6: {'6', '2', '8'}, 7: {'9', '5', '1', '4'}, 8: {'9', '7', '8'}})\n",
      "Cols: \n",
      "defaultdict(<class 'set'>, {0: {'4', '6', '7', '8', '5'}, 1: {'3', '9', '6'}, 4: {'1', '6', '9', '7', '8', '2'}, 3: {'1', '4', '8'}, 5: {'3', '9', '5'}, 2: {'8'}, 7: {'7', '6', '8'}, 8: {'1', '3', '6', '9', '5'}, 6: {'2'}})\n",
      "Squares: \n",
      "defaultdict(<class 'set'>, {(0, 0): {'3', '6', '9', '8', '5'}, (0, 1): {'9', '5', '1', '7'}, (0, 2): {'6'}, (1, 0): {'7', '4', '8'}, (1, 1): {'3', '6', '2', '8'}, (1, 2): {'3', '1', '6'}, (2, 0): {'6'}, (2, 2): {'9', '7', '8', '5', '2'}, (2, 1): {'9', '8', '1', '4'}})\n",
      "True\n"
     ]
    }
   ],
   "source": [
    "# Neetcode- 150 9/150 https://leetcode.com/problems/valid-sudoku/\n",
    "# Valid Sudoku ? from a 9x9 grid\n",
    "# A valid Sudoku board (partially filled) is a 9x9 grid where each row, column, and 3x3 subgrid contains the digits 1-9 without repetition.\n",
    "\n",
    "\n",
    "# we create three sets to keep track of the numbers in each row, column, and 3x3 subgrid\n",
    "# in the dict, we store it as row/col/square index as the key and a set of numbers as the value\n",
    "# we iterate through the board, and for each number, we check if it is already in\n",
    "# the corresponding row, column, or square set if it is, then the board is not valid\n",
    "\n",
    "\n",
    "from collections import defaultdict\n",
    "from typing import List\n",
    "\n",
    "def isValidSudoku(board: List[List[str]]) -> bool:\n",
    "    rows = defaultdict(set)\n",
    "    cols = defaultdict(set)\n",
    "    squares = defaultdict(set)\n",
    "\n",
    "    for r in range(9):\n",
    "        for c in range(9):\n",
    "            if board[r][c] == \".\":\n",
    "                continue\n",
    "            if ( board[r][c] in rows[r] or board[r][c] in cols[c] or board[r][c] in squares[(r//3, c//3)]):\n",
    "                return False\n",
    "            \n",
    "            cols[c].add(board[r][c])\n",
    "            rows[r].add(board[r][c])\n",
    "            squares[(r//3,c//3)].add(board[r][c])\n",
    "\n",
    "    print(\"Rows: \")\n",
    "    print(rows)\n",
    "    print(\"Cols: \")\n",
    "    print(cols)\n",
    "    print(\"Squares: \")\n",
    "    print(squares)\n",
    "    return True\n",
    "\n",
    "board = [[\"5\",\"3\",\".\",\".\",\"7\",\".\",\".\",\".\",\".\"]\n",
    "        ,[\"6\",\".\",\".\",\"1\",\"9\",\"5\",\".\",\".\",\".\"]\n",
    "        ,[\".\",\"9\",\"8\",\".\",\".\",\".\",\".\",\"6\",\".\"]\n",
    "        ,[\"8\",\".\",\".\",\".\",\"6\",\".\",\".\",\".\",\"3\"]\n",
    "        ,[\"4\",\".\",\".\",\"8\",\".\",\"3\",\".\",\".\",\"1\"]\n",
    "        ,[\"7\",\".\",\".\",\".\",\"2\",\".\",\".\",\".\",\"6\"]\n",
    "        ,[\".\",\"6\",\".\",\".\",\".\",\".\",\"2\",\"8\",\".\"]\n",
    "        ,[\".\",\".\",\".\",\"4\",\"1\",\"9\",\".\",\".\",\"5\"]\n",
    "        ,[\".\",\".\",\".\",\".\",\"8\",\".\",\".\",\"7\",\"9\"]]\n",
    "print(isValidSudoku(board))  # Output: True"
   ]
  }
 ],
 "metadata": {
  "kernelspec": {
   "display_name": "Python 3",
   "language": "python",
   "name": "python3"
  },
  "language_info": {
   "codemirror_mode": {
    "name": "ipython",
    "version": 3
   },
   "file_extension": ".py",
   "mimetype": "text/x-python",
   "name": "python",
   "nbconvert_exporter": "python",
   "pygments_lexer": "ipython3",
   "version": "3.13.5"
  }
 },
 "nbformat": 4,
 "nbformat_minor": 5
}
