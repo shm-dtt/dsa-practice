{
 "cells": [
  {
   "cell_type": "markdown",
   "id": "25c3ee8b",
   "metadata": {},
   "source": [
    "# 2 Pointers"
   ]
  },
  {
   "cell_type": "markdown",
   "id": "c72ef39f",
   "metadata": {},
   "source": [
    "## Valid Palindrome"
   ]
  },
  {
   "cell_type": "code",
   "execution_count": 6,
   "id": "1b314021",
   "metadata": {},
   "outputs": [
    {
     "name": "stdout",
     "output_type": "stream",
     "text": [
      "True\n",
      "False\n",
      "True\n",
      "False\n"
     ]
    }
   ],
   "source": [
    "# Neetcode- 150 10/150 https://leetcode.com/problems/valid-palindrome/\n",
    "# Valid Palindrome ? from a string\n",
    "# A palindrome is a string that reads the same forward and backward.\n",
    "\n",
    "# 2 pointers, one at start and one at end\n",
    "# we will move the pointers towards each other, skipping non-alphanumeric characters\n",
    "# if the characters are not equal, then the string is not a palindrome\n",
    "\n",
    "def isPalindrome(s: str) -> bool:\n",
    "    l, r = 0, len(s) - 1\n",
    "\n",
    "    while l < r:\n",
    "        while l < r and not s[l].isalnum():\n",
    "            l += 1\n",
    "        while l < r and not s[r].isalnum():\n",
    "            r -= 1\n",
    "        if not s[l].lower() == s[r].lower():\n",
    "            return False\n",
    "        l, r = l + 1, r - 1\n",
    "    return True\n",
    "\n",
    "s = \"A man, a plan, a canal: Panama\"\n",
    "print(isPalindrome(s))  # Output: True\n",
    "s = \"race a car\"\n",
    "print(isPalindrome(s))  # Output: False\n",
    "s = \" \"\n",
    "print(isPalindrome(s))  # Output: True\n",
    "s = \"0P\"\n",
    "print(isPalindrome(s))  # Output: False"
   ]
  },
  {
   "cell_type": "markdown",
   "id": "30beffb4",
   "metadata": {},
   "source": [
    "## Two Sum II - Input Array Is Sorted"
   ]
  },
  {
   "cell_type": "code",
   "execution_count": 7,
   "id": "8f810aba",
   "metadata": {},
   "outputs": [
    {
     "name": "stdout",
     "output_type": "stream",
     "text": [
      "[1, 2]\n",
      "[1, 3]\n"
     ]
    }
   ],
   "source": [
    "# Neetcode- 150 11/150 https://leetcode.com/problems/two-sum-ii-input-array-is-sorted/\n",
    "# Two Sum II - Input Array Is Sorted\n",
    "# Given a sorted array of integers, find two numbers such that they add up to a specific target number.\n",
    "\n",
    "# 1-indexed array, so we will return the indices + 1\n",
    "# We can use a two-pointer approach, one pointer at the start and one at the end of the array\n",
    "# If the sum of the two numbers is equal to the target, we return their indices\n",
    "# If the sum is greater than the target, we move the right pointer to the left (since the array is sorted, and reducing the right pointer will reduce the sum)\n",
    "# If the sum is less than the target, we move the left pointer to the right (since the array is sorted, and increasing the left pointer will increase the sum)\n",
    "from typing import List\n",
    "\n",
    "def twoSum(numbers: List[int], target: int) -> List[int]:\n",
    "    left = 0\n",
    "    right = len(numbers) - 1\n",
    "\n",
    "    while left < right:\n",
    "        total = numbers[left] + numbers[right]\n",
    "\n",
    "        if total == target:\n",
    "            return [left + 1, right + 1]\n",
    "        elif total > target:\n",
    "            right -= 1\n",
    "        else:\n",
    "            left += 1\n",
    "\n",
    "numbers = [2,7,11,15]\n",
    "target = 9\n",
    "print(twoSum(numbers, target))  # Output: [1, 2]\n",
    "numbers = [2,3,4]\n",
    "target = 6\n",
    "print(twoSum(numbers, target))  # Output: [1, 3]"
   ]
  },
  {
   "cell_type": "markdown",
   "id": "1d697c83",
   "metadata": {},
   "source": [
    "## 3sum "
   ]
  },
  {
   "cell_type": "code",
   "execution_count": 8,
   "id": "b2ffeca4",
   "metadata": {},
   "outputs": [
    {
     "name": "stdout",
     "output_type": "stream",
     "text": [
      "[[-1, -1, 2], [-1, 0, 1]]\n"
     ]
    }
   ],
   "source": [
    "# Neetcode- 150 12/150 https://leetcode.com/problems/3sum/\n",
    "# 3sum ? from a list of nums\n",
    "# Given an array nums of n integers, are there elements a, b, c in nums such that a + b + c = 0?\n",
    "# the indexes of a, b, and c should be different\n",
    "\n",
    "from typing import List\n",
    "\n",
    "def threeSum(nums: List[int]) -> List[List[int]]:\n",
    "        res = []\n",
    "        nums.sort()\n",
    "\n",
    "        for i in range(len(nums)):\n",
    "            if i > 0 and nums[i] == nums[i-1]:\n",
    "                continue\n",
    "            \n",
    "            j = i + 1\n",
    "            k = len(nums) - 1\n",
    "\n",
    "            while j < k:\n",
    "                total = nums[i] + nums[j] + nums[k]\n",
    "\n",
    "                if total > 0:\n",
    "                    k -= 1\n",
    "                elif total < 0:\n",
    "                    j += 1\n",
    "                else:\n",
    "                    res.append([nums[i], nums[j], nums[k]])\n",
    "                    j += 1\n",
    "\n",
    "                    while nums[j] == nums[j-1] and j < k:\n",
    "                        j += 1\n",
    "        \n",
    "        return res\n",
    "    \n",
    "nums = [-1, 0, 1, 2, -1, -4]\n",
    "print(threeSum(nums))  # Output: [[-1, -1, 2], [-1, 0, 1]]"
   ]
  },
  {
   "cell_type": "markdown",
   "id": "bf786c50",
   "metadata": {},
   "source": [
    "## Container with Most Water"
   ]
  },
  {
   "cell_type": "code",
   "execution_count": 9,
   "id": "5f5b824f",
   "metadata": {},
   "outputs": [
    {
     "name": "stdout",
     "output_type": "stream",
     "text": [
      "49\n"
     ]
    }
   ],
   "source": [
    "# Neetcode- 150 13/150 https://leetcode.com/problems/container-with-most-water/\n",
    "# Container with Most Water ? from a list of heights\n",
    "\n",
    "# in essence, we want to find two lines that can hold the most water, i.e max volume\n",
    "# so we can use two pointers, one at the start and one at the end of the list\n",
    "# we will calculate the volume between the two lines, and then move the pointer that points to the shorter line\n",
    "# we take the min of the two heights, and multiply it by the distance between the two pointers\n",
    "# we do this until the two pointers meet\n",
    "# we want to maximize the volume, so we will keep track of the maximum volume found so far\n",
    "# we can move the pointer that points to the shorter line, because moving the taller line won't increase the volume\n",
    "# this is because the volume is determined by the shorter line, so we want to try and find a taller line\n",
    "\n",
    "from typing import List\n",
    "\n",
    "def maxArea(height: List[int]) -> int:\n",
    "    i, j = 0, len(height) - 1\n",
    "    vol = 0\n",
    "    while i < j:\n",
    "        temp_vol = min(height[i], height[j]) * (j - i)\n",
    "        vol = max(vol, temp_vol)\n",
    "\n",
    "        if height[i] > height[j]:\n",
    "            j-=1\n",
    "        else:\n",
    "            i+=1\n",
    "    return vol\n",
    "\n",
    "heights = [1,8,6,2,5,4,8,3,7]\n",
    "print(maxArea(heights))  # Output: 49"
   ]
  },
  {
   "cell_type": "markdown",
   "id": "1d87221d",
   "metadata": {},
   "source": [
    "## Trapping Rain Water"
   ]
  },
  {
   "cell_type": "code",
   "execution_count": 10,
   "id": "6b557f7d",
   "metadata": {},
   "outputs": [
    {
     "name": "stdout",
     "output_type": "stream",
     "text": [
      "6\n",
      "9\n"
     ]
    }
   ],
   "source": [
    "# Neetcode- 150 14/150 https://leetcode.com/problems/trapping-rain-water/\n",
    "# Trapping Rain Water ? from a list of heights\n",
    "\n",
    "# using 2 pointers, one at the start and one at the end of the list\n",
    "# and we will keep track of the maximum height seen so far from both sides\n",
    "\n",
    "# we will move the pointer that points to the shorter line, because moving the taller line won't increase the volume\n",
    "# this is because the volume is determined by the shorter line, so we want to try and find a taller line\n",
    "\n",
    "# if the left max height is less than the right max height, we will move the left pointer to the right\n",
    "# we increase the left pointer and check if the current height is greater than the left max height\n",
    "# if height at the left pointer is greater than the left max height, we update the left max height\n",
    "# otherwise, we add the difference between the left max height and the current height to the volume\n",
    "# we do the same for the right pointer, but we move it to the left\n",
    "\n",
    "from typing import List\n",
    "\n",
    "def trap(height: List[int]) -> int:\n",
    "    l,r = 0, len(height)-1\n",
    "    l_max, r_max = height[l], height[r]\n",
    "\n",
    "    vol = 0\n",
    "\n",
    "    while(l<r):\n",
    "        if l_max < r_max:\n",
    "            l+=1\n",
    "            if height[l] > l_max:\n",
    "                l_max = max(height[l], l_max)\n",
    "            else:\n",
    "                vol += (l_max - height[l])\n",
    "        else:\n",
    "            r-=1\n",
    "            if height[r] > r_max:\n",
    "                r_max = max(height[r], r_max)\n",
    "            else:\n",
    "                vol += (r_max - height[r])\n",
    "\n",
    "    return vol\n",
    "    \n",
    "heights = [0,1,0,2,1,0,1,3,2,1,2,1]\n",
    "print(trap(heights))  # Output: 6\n",
    "heights = [4,2,0,3,2,5]\n",
    "print(trap(heights))  # Output: 9\n"
   ]
  }
 ],
 "metadata": {
  "kernelspec": {
   "display_name": "Python 3",
   "language": "python",
   "name": "python3"
  },
  "language_info": {
   "codemirror_mode": {
    "name": "ipython",
    "version": 3
   },
   "file_extension": ".py",
   "mimetype": "text/x-python",
   "name": "python",
   "nbconvert_exporter": "python",
   "pygments_lexer": "ipython3",
   "version": "3.13.5"
  }
 },
 "nbformat": 4,
 "nbformat_minor": 5
}
