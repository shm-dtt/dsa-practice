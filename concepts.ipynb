{
 "cells": [
  {
   "cell_type": "markdown",
   "id": "629bf3c8",
   "metadata": {},
   "source": [
    "Generally to make a solution pass, try to do it under a min (for loops take 10^6 instructions per min on an average)\n",
    "\n",
    "- If its 10^6, then think around O(logn)\n",
    "- If its 10^5 then O(n)\n",
    "- 10^4 : then O(nlogn)\n",
    "- 10^3 : then O(n^2) works\n",
    "- 10^2 : O(n^3)\n",
    "- n< 25: generally PnC question, can be solved by O(n!)"
   ]
  },
  {
   "cell_type": "code",
   "execution_count": 7,
   "id": "9dd87d5d",
   "metadata": {},
   "outputs": [
    {
     "name": "stdout",
     "output_type": "stream",
     "text": [
      "('a', 10)\n",
      "('b', 20)\n"
     ]
    }
   ],
   "source": [
    "# Use zip to iterate over multiple lists at the same time\n",
    "\n",
    "names = [\"a\", \"b\"]\n",
    "scores = [10, 20]\n",
    "\n",
    "for n, s in zip(names, scores):\n",
    "    print((n, s))\n"
   ]
  },
  {
   "cell_type": "code",
   "execution_count": 8,
   "id": "da758a5c",
   "metadata": {},
   "outputs": [
    {
     "name": "stdout",
     "output_type": "stream",
     "text": [
      "Counter({'a': 3, 'n': 2, 'b': 1})\n"
     ]
    }
   ],
   "source": [
    "# Use Counter to get frequency from a string\n",
    "\n",
    "from collections import Counter\n",
    "print(Counter(\"banana\"))  # {'a':3,'n':2,'b':1}"
   ]
  },
  {
   "cell_type": "code",
   "execution_count": 9,
   "id": "e3d9eca6",
   "metadata": {},
   "outputs": [
    {
     "name": "stdout",
     "output_type": "stream",
     "text": [
      "15\n",
      "[(2, 1), (5, 2), (1, 3)]\n",
      "[(1, 3), (5, 2), (2, 1)]\n",
      "['kiwi', 'pear', 'apple', 'banana']\n",
      "[1, -2, 3, -5, -10]\n",
      "[{'name': 'Bob', 'age': 19}, {'name': 'Alice', 'age': 25}, {'name': 'Charlie', 'age': 30}]\n"
     ]
    }
   ],
   "source": [
    "# lambda function\n",
    "# takes a value and then changes it according to the expression\n",
    "\n",
    "x = lambda a : a + 10\n",
    "print(x(5))\n",
    "\n",
    "# very useful in sorting\n",
    "data = [(1, 3), (2, 1), (5, 2)]\n",
    "data.sort(key=lambda x: x[1]) # this means sort based on the second element of the tuple\n",
    "print(data) # Note this will print in asc order [(2, 1), (5, 2), (1, 3)]\n",
    "\n",
    "data.sort(key=lambda x: -x[1]) # (-) means in desc order\n",
    "print(data) #[(1, 3), (5, 2), (2, 1)]\n",
    "\n",
    "# Sort strings by their length\n",
    "words = [\"apple\", \"kiwi\", \"banana\", \"pear\"]\n",
    "words.sort(key=lambda w: len(w))\n",
    "print(words) #['kiwi', 'pear', 'apple', 'banana']\n",
    "\n",
    "\n",
    "# Sort numbers by their absolute value\n",
    "nums = [-10, 1, -5, 3, -2]\n",
    "nums.sort(key=lambda x: abs(x))\n",
    "print(nums)\n",
    "# Output: [1, -2, 3, -5, -10]\n",
    "\n",
    "\n",
    "# Sort a list of dictionaries by a specific field\n",
    "people = [\n",
    "    {\"name\": \"Alice\", \"age\": 25},\n",
    "    {\"name\": \"Bob\", \"age\": 19},\n",
    "    {\"name\": \"Charlie\", \"age\": 30}\n",
    "]\n",
    "people.sort(key=lambda p: p[\"age\"])\n",
    "print(people)\n",
    "# Output: [{'name': 'Bob', 'age': 19}, {'name': 'Alice', 'age': 25}, {'name': 'Charlie', 'age': 30}]"
   ]
  }
 ],
 "metadata": {
  "kernelspec": {
   "display_name": "Python 3",
   "language": "python",
   "name": "python3"
  },
  "language_info": {
   "codemirror_mode": {
    "name": "ipython",
    "version": 3
   },
   "file_extension": ".py",
   "mimetype": "text/x-python",
   "name": "python",
   "nbconvert_exporter": "python",
   "pygments_lexer": "ipython3",
   "version": "3.13.5"
  }
 },
 "nbformat": 4,
 "nbformat_minor": 5
}
