{
 "cells": [
  {
   "cell_type": "markdown",
   "id": "9aa9566f",
   "metadata": {},
   "source": [
    "Note: Whenever you see an array, throw a set/hashmap to it, something usefull will always come up"
   ]
  },
  {
   "cell_type": "code",
   "execution_count": null,
   "id": "04faa69e",
   "metadata": {},
   "outputs": [],
   "source": [
    "# Blind75 1/75\n",
    "# Contains Duplicate ? from a list of nums\n",
    "\n",
    "# Apply a set, if the length of the set is less than the length of the list, then there are duplicates\n",
    "# Time Complexity: O(n), Space Complexity: O(n)\n",
    "\n",
    "def contains_duplicate(nums):\n",
    "    seen = set(nums)\n",
    "    return len(nums) > len(seen)\n",
    "\n",
    "nums = [1, 2, 3, 4, 5, 1]\n",
    "print(contains_duplicate(nums))  # Output: True\n",
    "nums = [1, 2, 3, 4, 5]\n",
    "print(contains_duplicate(nums))  # Output: False    "
   ]
  },
  {
   "cell_type": "code",
   "execution_count": null,
   "id": "949ec4cb",
   "metadata": {},
   "outputs": [],
   "source": [
    "# Blind75 2/75\n",
    "# Valid Anagram ? from two strings\n",
    "\n",
    "# Use map to get count of each character in both strings\n",
    "# Time Complexity: O(n)\n",
    "# Space Complexity: O(1) since we are using a fixed size map for 26 letters\n",
    "\n",
    "def isAnagram(s: str, t: str) -> bool:\n",
    "\n",
    "    if len(s) != len(t):\n",
    "        return False\n",
    "    \n",
    "    countS, countT = {}, {}\n",
    "\n",
    "    for i in range(len(s)):\n",
    "        countS[s[i]] = 1 + countS.get(s[i],0)\n",
    "        countT[t[i]] = 1 + countT.get(t[i],0)\n",
    "\n",
    "    return countS == countT \n",
    "\n",
    "s = \"anagram\"\n",
    "t = \"nagaram\"\n",
    "print(isAnagram(s, t))  # Output: True\n",
    "\n",
    "s = \"rat\"\n",
    "t = \"ca\"\n",
    "print(isAnagram(s, t))  # Output: False"
   ]
  },
  {
   "cell_type": "code",
   "execution_count": 9,
   "id": "3c106767",
   "metadata": {},
   "outputs": [
    {
     "name": "stdout",
     "output_type": "stream",
     "text": [
      "[0, 1]\n"
     ]
    }
   ],
   "source": [
    "# Blind75 3/75\n",
    "# Two Sum ? Return indices of the two numbers such that they add up to a specific target.\n",
    "\n",
    "# Time - O(n) cuz we go over the list once\n",
    "# Space - O(n) we make a map for the whole list\n",
    "\n",
    "def twoSum(nums, target):\n",
    "    num_map = {}\n",
    "    for i, num in enumerate(nums):\n",
    "        complement = target - num\n",
    "        if complement in num_map:\n",
    "            return [num_map[complement], i]\n",
    "        num_map[num] = i\n",
    "    return []    \n",
    "\n",
    "nums = [2, 7, 11, 15]\n",
    "target = 9\n",
    "print(twoSum(nums, target))  # Output: [0, 1]   \n"
   ]
  },
  {
   "cell_type": "code",
   "execution_count": null,
   "id": "e0593203",
   "metadata": {},
   "outputs": [],
   "source": []
  }
 ],
 "metadata": {
  "kernelspec": {
   "display_name": "Python 3",
   "language": "python",
   "name": "python3"
  },
  "language_info": {
   "codemirror_mode": {
    "name": "ipython",
    "version": 3
   },
   "file_extension": ".py",
   "mimetype": "text/x-python",
   "name": "python",
   "nbconvert_exporter": "python",
   "pygments_lexer": "ipython3",
   "version": "3.13.5"
  }
 },
 "nbformat": 4,
 "nbformat_minor": 5
}
