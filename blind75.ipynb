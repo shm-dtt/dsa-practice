{
 "cells": [
  {
   "cell_type": "markdown",
   "id": "9aa9566f",
   "metadata": {},
   "source": [
    "Note: Whenever you see an array, throw a set/hashmap to it, something usefull will always come up"
   ]
  },
  {
   "cell_type": "code",
   "execution_count": null,
   "id": "04faa69e",
   "metadata": {},
   "outputs": [
    {
     "name": "stdout",
     "output_type": "stream",
     "text": [
      "True\n",
      "False\n"
     ]
    }
   ],
   "source": [
    "# Blind75 1/75\n",
    "# Contains Duplicate ? from a list of nums\n",
    "\n",
    "# Apply a set, if the length of the set is less than the length of the list, then there are duplicates\n",
    "# Time Complexity: O(n)\n",
    "\n",
    "def contains_duplicate(nums):\n",
    "    seen = set(nums)\n",
    "    return len(nums) > len(seen)\n",
    "\n",
    "nums = [1, 2, 3, 4, 5, 1]\n",
    "print(contains_duplicate(nums))  # Output: True\n",
    "nums = [1, 2, 3, 4, 5]\n",
    "print(contains_duplicate(nums))  # Output: False    "
   ]
  },
  {
   "cell_type": "code",
   "execution_count": null,
   "id": "949ec4cb",
   "metadata": {},
   "outputs": [
    {
     "name": "stdout",
     "output_type": "stream",
     "text": [
      "True\n",
      "False\n"
     ]
    }
   ],
   "source": [
    "# Blind75 2/75\n",
    "# Valid Anagram ? from two strings\n",
    "\n",
    "# Use map to get count of each character in both strings\n",
    "# Time Complexity: O(n)\n",
    "# Space Complexity: O(1) since we are using a fixed size map for 26 letters\n",
    "\n",
    "def isAnagram(s: str, t: str) -> bool:\n",
    "\n",
    "    if len(s) != len(t):\n",
    "        return False\n",
    "    \n",
    "    countS, countT = {}, {}\n",
    "\n",
    "    for i in range(len(s)):\n",
    "        countS[s[i]] = 1 + countS.get(s[i],0)\n",
    "        countT[t[i]] = 1 + countT.get(t[i],0)\n",
    "\n",
    "    return countS == countT \n",
    "\n",
    "s = \"anagram\"\n",
    "t = \"nagaram\"\n",
    "print(isAnagram(s, t))  # Output: True\n",
    "\n",
    "s = \"rat\"\n",
    "t = \"ca\"\n",
    "print(isAnagram(s, t))  # Output: False"
   ]
  }
 ],
 "metadata": {
  "kernelspec": {
   "display_name": "Python 3",
   "language": "python",
   "name": "python3"
  },
  "language_info": {
   "codemirror_mode": {
    "name": "ipython",
    "version": 3
   },
   "file_extension": ".py",
   "mimetype": "text/x-python",
   "name": "python",
   "nbconvert_exporter": "python",
   "pygments_lexer": "ipython3",
   "version": "3.13.5"
  }
 },
 "nbformat": 4,
 "nbformat_minor": 5
}
