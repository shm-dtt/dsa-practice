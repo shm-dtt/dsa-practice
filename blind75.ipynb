{
 "cells": [
  {
   "cell_type": "markdown",
   "id": "9aa9566f",
   "metadata": {},
   "source": [
    "Note: Whenever you see an array, throw a set/hashmap to it, something usefull will always come up"
   ]
  },
  {
   "cell_type": "code",
   "execution_count": 1,
   "id": "04faa69e",
   "metadata": {},
   "outputs": [
    {
     "name": "stdout",
     "output_type": "stream",
     "text": [
      "True\n",
      "False\n"
     ]
    }
   ],
   "source": [
    "# blind75 1/8\n",
    "# Contains Duplicate ? from a list of nums\n",
    "\n",
    "def contains_duplicate(nums):\n",
    "    seen = set(nums)\n",
    "    return len(nums) > len(seen)\n",
    "\n",
    "nums = [1, 2, 3, 4, 5, 1]\n",
    "print(contains_duplicate(nums))  # Output: True\n",
    "nums = [1, 2, 3, 4, 5]\n",
    "print(contains_duplicate(nums))  # Output: False    "
   ]
  }
 ],
 "metadata": {
  "kernelspec": {
   "display_name": "Python 3",
   "language": "python",
   "name": "python3"
  },
  "language_info": {
   "codemirror_mode": {
    "name": "ipython",
    "version": 3
   },
   "file_extension": ".py",
   "mimetype": "text/x-python",
   "name": "python",
   "nbconvert_exporter": "python",
   "pygments_lexer": "ipython3",
   "version": "3.13.5"
  }
 },
 "nbformat": 4,
 "nbformat_minor": 5
}
