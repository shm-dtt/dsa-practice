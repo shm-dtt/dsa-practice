{
 "cells": [
  {
   "cell_type": "markdown",
   "id": "1180bcf5",
   "metadata": {},
   "source": [
    "# Stacks"
   ]
  },
  {
   "cell_type": "markdown",
   "id": "40e1176f",
   "metadata": {},
   "source": [
    "## Valid Parentheses"
   ]
  },
  {
   "cell_type": "code",
   "execution_count": null,
   "id": "050c970f",
   "metadata": {},
   "outputs": [],
   "source": [
    "# Neetcode-150 /150"
   ]
  }
 ],
 "metadata": {
  "language_info": {
   "name": "python"
  }
 },
 "nbformat": 4,
 "nbformat_minor": 5
}
