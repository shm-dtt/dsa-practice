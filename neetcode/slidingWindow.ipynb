{
 "cells": [
  {
   "cell_type": "markdown",
   "id": "ae22f76d",
   "metadata": {},
   "source": [
    "# Sliding Window"
   ]
  },
  {
   "cell_type": "markdown",
   "id": "967553ac",
   "metadata": {},
   "source": [
    "## Best Time to Buy and Sell Stock"
   ]
  },
  {
   "cell_type": "code",
   "execution_count": null,
   "id": "2a7ceaf9",
   "metadata": {},
   "outputs": [],
   "source": [
    "# Neetcode- 150 15/150 https://leetcode.com/problems/best-time-to-buy-and-sell-stock/\n",
    "# Best Time to Buy and Sell Stock ? from a list of prices\n",
    "from typing import List\n",
    "\n",
    "# We can use dynamic programming to keep track of the maximum profit we can make\n",
    "# We will keep track of the minimum price we have seen so far, and for each price, we will calculate the profit we can make by selling at that price\n",
    "# We will update the maximum profit if the profit is greater than the maximum profit we have seen so far\n",
    "# Time Complexity: O(n), Space Complexity: O(1)\n",
    "\n",
    "def maxProfit_with_dp(prices: List[int]) -> int:\n",
    "    maxP = 0\n",
    "    initBuy = prices[0]\n",
    "\n",
    "    for sellP in prices:\n",
    "        maxP = max(maxP, sellP-initBuy)\n",
    "        initBuy = min(initBuy, sellP)\n",
    "    return maxP\n",
    "\n",
    "# Using 2 pointer, one at 0th and 1st index\n",
    "# if the price at the right pointer is less than the price at the left pointer, we move the left pointer to the right, to capture the lowest price\n",
    "# if the price at the right pointer is greater than the price at the left pointer, we calculate the profit and move the right pointer to the right\n",
    "# we keep track of the maximum profit found so far\n",
    "# we return the maximum profit found\n",
    "\n",
    "def maxProfit_with_two_pointers(prices: List[int]) -> int:\n",
    "    l, r = 0, 1\n",
    "    maxP = 0\n",
    "\n",
    "    while r < len(prices):\n",
    "        if prices[r] < prices[l]:\n",
    "            l=r\n",
    "        else:\n",
    "            maxP = max(prices[r]-prices[l], maxP)\n",
    "            r+=1\n",
    "    \n",
    "    return maxP\n",
    "    \n",
    "prices = [7,1,5,3,6,4]\n",
    "print(maxProfit_with_two_pointers(prices))  # Output: 5\n",
    "prices = [7,6,4,3,1]\n",
    "print(maxProfit_with_dp(prices))  # Output: 0"
   ]
  },
  {
   "cell_type": "code",
   "execution_count": 2,
   "id": "0f48e6fd",
   "metadata": {},
   "outputs": [
    {
     "name": "stdout",
     "output_type": "stream",
     "text": [
      "3\n"
     ]
    }
   ],
   "source": [
    "# Neetcode- 150 16/150 https://leetcode.com/problems/longest-substring-without-repeating-characters/\n",
    "# Longest Substring Without Repeating Characters ? from a string\n",
    "\n",
    "# Using sliding window\n",
    "# We will use a set to keep track of the characters we have seen so far\n",
    "# 2 pointers, right starts from the first index and checks if that letter is in the set\n",
    "# if the letter is not in the set, we add it to the set\n",
    "# if the letter is in the set, we move the left pointer to the right until the letter is not in the set\n",
    "# we return the length of the substring\n",
    "\n",
    "\n",
    "def lengthOfLongestSubstring(s: str) -> int:\n",
    "    charSet = set()\n",
    "    l=0\n",
    "    res = 0\n",
    "\n",
    "    for r in range(len(s)):\n",
    "        while s[r] in charSet:\n",
    "            charSet.remove(s[l])\n",
    "            l +=1\n",
    "        charSet.add(s[r])\n",
    "        res = max(res, r-l+1)\n",
    "    return res\n",
    "\n",
    "s = \"abcabcbb\"\n",
    "print(lengthOfLongestSubstring(s))"
   ]
  }
 ],
 "metadata": {
  "kernelspec": {
   "display_name": "Python 3",
   "language": "python",
   "name": "python3"
  },
  "language_info": {
   "codemirror_mode": {
    "name": "ipython",
    "version": 3
   },
   "file_extension": ".py",
   "mimetype": "text/x-python",
   "name": "python",
   "nbconvert_exporter": "python",
   "pygments_lexer": "ipython3",
   "version": "3.13.5"
  }
 },
 "nbformat": 4,
 "nbformat_minor": 5
}
