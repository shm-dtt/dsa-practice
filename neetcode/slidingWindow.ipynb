{
 "cells": [
  {
   "cell_type": "markdown",
   "id": "ae22f76d",
   "metadata": {},
   "source": [
    "# Sliding Window"
   ]
  },
  {
   "cell_type": "markdown",
   "id": "967553ac",
   "metadata": {},
   "source": [
    "## Best Time to Buy and Sell Stock"
   ]
  },
  {
   "cell_type": "code",
   "execution_count": null,
   "id": "2a7ceaf9",
   "metadata": {},
   "outputs": [],
   "source": [
    "# Neetcode- 150 15/150 https://leetcode.com/problems/best-time-to-buy-and-sell-stock/\n",
    "# Best Time to Buy and Sell Stock ? from a list of prices\n",
    "from typing import List\n",
    "\n",
    "# We can use dynamic programming to keep track of the maximum profit we can make\n",
    "# We will keep track of the minimum price we have seen so far, and for each price, we will calculate the profit we can make by selling at that price\n",
    "# We will update the maximum profit if the profit is greater than the maximum profit we have seen so far\n",
    "# Time Complexity: O(n), Space Complexity: O(1)\n",
    "\n",
    "def maxProfit_with_dp(prices: List[int]) -> int:\n",
    "    maxP = 0\n",
    "    initBuy = prices[0]\n",
    "\n",
    "    for sellP in prices:\n",
    "        maxP = max(maxP, sellP-initBuy)\n",
    "        initBuy = min(initBuy, sellP)\n",
    "    return maxP\n",
    "\n",
    "# Using 2 pointer, one at 0th and 1st index\n",
    "# if the price at the right pointer is less than the price at the left pointer, we move the left pointer to the right, to capture the lowest price\n",
    "# if the price at the right pointer is greater than the price at the left pointer, we calculate the profit and move the right pointer to the right\n",
    "# we keep track of the maximum profit found so far\n",
    "# we return the maximum profit found\n",
    "\n",
    "def maxProfit_with_two_pointers(prices: List[int]) -> int:\n",
    "    l, r = 0, 1\n",
    "    maxP = 0\n",
    "\n",
    "    while r < len(prices):\n",
    "        if prices[r] < prices[l]:\n",
    "            l=r\n",
    "        else:\n",
    "            maxP = max(prices[r]-prices[l], maxP)\n",
    "            r+=1\n",
    "    \n",
    "    return maxP\n",
    "    \n",
    "prices = [7,1,5,3,6,4]\n",
    "print(maxProfit_with_two_pointers(prices))  # Output: 5\n",
    "prices = [7,6,4,3,1]\n",
    "print(maxProfit_with_dp(prices))  # Output: 0"
   ]
  },
  {
   "cell_type": "markdown",
   "id": "4b8c5212",
   "metadata": {},
   "source": [
    "## Longest Substring Without Repeating Characters"
   ]
  },
  {
   "cell_type": "code",
   "execution_count": null,
   "id": "0f48e6fd",
   "metadata": {},
   "outputs": [],
   "source": [
    "# Neetcode- 150 16/150 https://leetcode.com/problems/longest-substring-without-repeating-characters/\n",
    "# Longest Substring Without Repeating Characters ? from a string\n",
    "\n",
    "# Using sliding window\n",
    "# We will use a set to keep track of the characters we have seen so far\n",
    "# 2 pointers, right starts from the first index and checks if that letter is in the set\n",
    "# if the letter is not in the set, we add it to the set\n",
    "# if the letter is in the set, we move the left pointer to the right until the letter is not in the set\n",
    "# we return the length of the substring\n",
    "\n",
    "\n",
    "def lengthOfLongestSubstring(s: str) -> int:\n",
    "    charSet = set()\n",
    "    l=0\n",
    "    res = 0\n",
    "\n",
    "    for r in range(len(s)):\n",
    "        while s[r] in charSet:\n",
    "            charSet.remove(s[l])\n",
    "            l +=1\n",
    "        charSet.add(s[r])\n",
    "        res = max(res, r-l+1)\n",
    "    return res\n",
    "\n",
    "s = \"abcabcbb\"\n",
    "print(lengthOfLongestSubstring(s))"
   ]
  },
  {
   "cell_type": "markdown",
   "id": "b90d1622",
   "metadata": {},
   "source": [
    "## Longest Repeating Character Replacement"
   ]
  },
  {
   "cell_type": "code",
   "execution_count": null,
   "id": "0a001ed3",
   "metadata": {},
   "outputs": [],
   "source": [
    "# Neetcode- 150 17/150 https://leetcode.com/problems/longest-repeating-character-replacement/\n",
    "# Longest Repeating Character Replacement\n",
    "\n",
    "#You are given a string s and an integer k. You can choose any character of the string and change it to any other uppercase English character. You can perform this operation at most k times.\n",
    "#Return the length of the longest substring containing the same letter you can get after performing the above operations.\n",
    "\n",
    "#Using sliding window\n",
    "#We will use a dictionary to keep track of the frequency of each character\n",
    "# Using 2 pointers, one at 0th and other traverses the string.\n",
    "# We keep track of the maximum frequency of any character\n",
    "# We move the left pointer only when the window size - max frequency > k i.e the other chars in the window can be replaced by k operations\n",
    "\n",
    "def characterReplacement( s: str, k: int) -> int:\n",
    "        l = 0\n",
    "        count = {}\n",
    "\n",
    "        res = 0\n",
    "        maxFreq = 0\n",
    "\n",
    "        for r in range(len(s)):\n",
    "            count[s[r]] = 1+ count.get(s[r], 0)\n",
    "            maxFreq = max(maxFreq, count[s[r]])\n",
    "\n",
    "            while (r-l+1)-maxFreq > k:\n",
    "                count[s[l]] -= 1\n",
    "                l += 1\n",
    "\n",
    "            res = max(res, r-l+1)\n",
    "\n",
    "        return res\n",
    "    \n",
    "s = \"AABABBA\"\n",
    "k = 1\n",
    "print(characterReplacement(s,k))"
   ]
  },
  {
   "cell_type": "markdown",
   "id": "44b9bfb1",
   "metadata": {},
   "source": [
    "## Permutation in String"
   ]
  },
  {
   "cell_type": "code",
   "execution_count": 2,
   "id": "c8cb6a3a",
   "metadata": {},
   "outputs": [
    {
     "name": "stdout",
     "output_type": "stream",
     "text": [
      "True\n",
      "False\n"
     ]
    }
   ],
   "source": [
    "# Neetcode- 150 18/150 https://leetcode.com/problems/permutation-in-string/\n",
    "# Permutation in String\n",
    "\n",
    "# Given two strings s1 and s2, return true if s2 contains a permutation of s1, or false otherwise.\n",
    "\n",
    "def checkInclusion(s1: str, s2: str) -> bool:\n",
    "    # Note: permutation can happen only with substrings\n",
    "\n",
    "        if len(s1) > len(s2): # if length of s1 is bigger, the question isnt solvable\n",
    "            return False\n",
    "\n",
    "        countS1 = {} # count of characters in s1\n",
    "        for i in range(len(s1)):\n",
    "            countS1[s1[i]] = 1 + countS1.get(s1[i], 0)\n",
    "\n",
    "        windowSize = len(s1) # window size will be the length of s1, since we need only those many chars to find permutations\n",
    "\n",
    "        l = 0 #left pointer\n",
    "        countS2 = {} #counter of s2\n",
    "\n",
    "        for r in range(len(s2)):\n",
    "            countS2[s2[r]] = 1 + countS2.get(s2[r], 0) # we add the letters we see one by one\n",
    "\n",
    "            while (r - l + 1) >= windowSize: # keep a check of how far we have seen and compare it with the window size, if it is equal or greater, that means we need to either check permutation or remove a character\n",
    "\n",
    "                if countS2 == countS1: # check if counters are equal, if yes, that means we have found a permutation\n",
    "                    return True\n",
    "                else: # if not, either reduce the value of the char in left pointer or remove it from the counter\n",
    "                    if countS2.get(s2[l], 0) == 1:\n",
    "                        countS2.pop(s2[l])\n",
    "                    else:\n",
    "                        countS2[s2[l]] = countS2.get(s2[l], 0) - 1\n",
    "                    l += 1 # take left pointer to next position to slide the window\n",
    "\n",
    "        return False\n",
    "    \n",
    "s1 = \"ab\"\n",
    "s2 = \"eidbaooo\"\n",
    "print(checkInclusion(s1,s2))\n",
    "\n",
    "s1 = \"ab\"\n",
    "s2 = \"eidboaoo\"\n",
    "print(checkInclusion(s1,s2))\n",
    "\n"
   ]
  }
 ],
 "metadata": {
  "kernelspec": {
   "display_name": "Python 3",
   "language": "python",
   "name": "python3"
  },
  "language_info": {
   "codemirror_mode": {
    "name": "ipython",
    "version": 3
   },
   "file_extension": ".py",
   "mimetype": "text/x-python",
   "name": "python",
   "nbconvert_exporter": "python",
   "pygments_lexer": "ipython3",
   "version": "3.13.5"
  }
 },
 "nbformat": 4,
 "nbformat_minor": 5
}
