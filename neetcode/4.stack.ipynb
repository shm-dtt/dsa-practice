{
 "cells": [
  {
   "cell_type": "markdown",
   "id": "1180bcf5",
   "metadata": {},
   "source": [
    "# Stacks"
   ]
  },
  {
   "cell_type": "markdown",
   "id": "40e1176f",
   "metadata": {},
   "source": [
    "## Valid Parentheses"
   ]
  },
  {
   "cell_type": "code",
   "execution_count": null,
   "id": "050c970f",
   "metadata": {},
   "outputs": [],
   "source": [
    "# Neetcode-150 21/150 https://leetcode.com/problems/valid-parentheses/description/\n",
    "# Valid Parentheses\n",
    "\n",
    "def isValid(s: str) -> bool:\n",
    "    stack = []\n",
    "    closeToOpen = { \")\" : \"(\", \"]\" : \"[\", \"}\" : \"{\" }\n",
    "    \n",
    "    for ch in s:\n",
    "        if ch in closeToOpen:\n",
    "            if stack and stack[-1] == closeToOpen[ch]:\n",
    "                stack.pop()\n",
    "            else:\n",
    "                return False\n",
    "        else:\n",
    "            stack.append(ch)\n",
    "        \n",
    "    \n",
    "    return False if stack else True\n",
    "        \n",
    "s = \"()[]{}\"\n",
    "print(isValid(s))\n",
    "\n",
    "s = \"(]\"\n",
    "print(isValid(s))\n",
    "\n",
    "s = \"([)]\"\n",
    "print(isValid(s))"
   ]
  },
  {
   "cell_type": "markdown",
   "id": "96933b69",
   "metadata": {},
   "source": [
    "## Min Stack"
   ]
  },
  {
   "cell_type": "code",
   "execution_count": null,
   "id": "7d1bc195",
   "metadata": {},
   "outputs": [],
   "source": [
    "# Neetcode-150 22/150 https://leetcode.com/problems/min-stack/description/\n",
    "# Min Stack\n",
    "\n",
    "class MinStack:\n",
    "    def __init__(self):\n",
    "        self.stack = []\n",
    "        self.minStack = []\n",
    "\n",
    "    def push(self, val: int) -> None:\n",
    "        self.stack.append(val)\n",
    "        val = min(val, self.minStack[-1] if self.minStack else val)\n",
    "        self.minStack.append(val)\n",
    "\n",
    "    def pop(self) -> None:\n",
    "        self.stack.pop()\n",
    "        self.minStack.pop()\n",
    "\n",
    "    def top(self) -> int:\n",
    "        return self.stack[-1]\n",
    "\n",
    "    def getMin(self) -> int:\n",
    "        return self.minStack[-1]\n",
    "\n",
    "\n",
    "# Your MinStack object will be instantiated and called as such:\n",
    "# obj = MinStack()\n",
    "# obj.push(val)\n",
    "# obj.pop()\n",
    "# param_3 = obj.top()\n",
    "# param_4 = obj.getMin()\n",
    "\n"
   ]
  }
 ],
 "metadata": {
  "kernelspec": {
   "display_name": "Python 3",
   "language": "python",
   "name": "python3"
  },
  "language_info": {
   "codemirror_mode": {
    "name": "ipython",
    "version": 3
   },
   "file_extension": ".py",
   "mimetype": "text/x-python",
   "name": "python",
   "nbconvert_exporter": "python",
   "pygments_lexer": "ipython3",
   "version": "3.13.5"
  }
 },
 "nbformat": 4,
 "nbformat_minor": 5
}
