{
 "cells": [
  {
   "cell_type": "markdown",
   "id": "5116b028",
   "metadata": {},
   "source": [
    "# Linked List"
   ]
  },
  {
   "cell_type": "markdown",
   "id": "a3ecc1df",
   "metadata": {},
   "source": [
    "## Reverse Linked List"
   ]
  },
  {
   "cell_type": "code",
   "execution_count": 7,
   "id": "ebec4c48",
   "metadata": {},
   "outputs": [],
   "source": [
    "# Neetcode-150 35/150 https://leetcode.com/problems/reverse-linked-list/description/\n",
    "\n",
    "from typing import Optional\n",
    "\n",
    "class ListNode:\n",
    "    def __init__(self, val=0, next=None):\n",
    "        self.val = val\n",
    "        self.next = next\n",
    "\n",
    "\n",
    "def reverseList(head: Optional[ListNode]) -> Optional[ListNode]:\n",
    "    curr = head\n",
    "    prev = None\n",
    "\n",
    "    while curr:\n",
    "        temp = curr.next\n",
    "        curr.next = prev\n",
    "        prev = curr\n",
    "        curr = temp\n",
    "\n",
    "    return prev\n",
    "\n",
    "head = [1,2,3,4,5]\n",
    "# print(reverseList(head)) \n",
    "# Output: [5,4,3,2,1]"
   ]
  },
  {
   "cell_type": "markdown",
   "id": "2cde1d80",
   "metadata": {},
   "source": [
    "## Merge Two Sorted Lists"
   ]
  },
  {
   "cell_type": "code",
   "execution_count": null,
   "id": "256d40aa",
   "metadata": {},
   "outputs": [],
   "source": [
    "# Neetcode-150 36/150 https://leetcode.com/problems/merge-two-sorted-lists/\n",
    "\n",
    "def mergeTwoLists(list1: Optional[ListNode], list2: Optional[ListNode]) -> Optional[ListNode]:\n",
    "    merged = node = ListNode()\n",
    "\n",
    "    while list1 and list2:\n",
    "        if list1.val < list2.val:\n",
    "            node.next = list1\n",
    "            list1 = list1.next\n",
    "        else:\n",
    "            node.next = list2\n",
    "            list2 = list2.next\n",
    "        node = node.next\n",
    "    \n",
    "    node.next = list1 or list2\n",
    "            \n",
    "    return merged.next\n",
    "\n",
    "\n",
    "# Input: list1 = [1,2,4], list2 = [1,3,4]\n",
    "# Output: [1,1,2,3,4,4]"
   ]
  },
  {
   "cell_type": "markdown",
   "id": "19ba7566",
   "metadata": {},
   "source": [
    "## Linked List Cycle"
   ]
  },
  {
   "cell_type": "code",
   "execution_count": null,
   "id": "2ab9e0c4",
   "metadata": {},
   "outputs": [],
   "source": [
    "# Neetcode-150 37/150 https://leetcode.com/problems/linked-list-cycle/\n",
    "\n",
    "def hasCycle(head: Optional[ListNode]) -> bool:\n",
    "    fast, slow = head, head\n",
    "\n",
    "    while fast and fast.next:\n",
    "        fast = fast.next.next\n",
    "        slow = slow.next\n",
    "\n",
    "        if fast == slow:\n",
    "            return True\n",
    "\n",
    "    return False\n",
    "\n",
    "\n",
    "# Input: head = [3,2,0,-4], pos = 1\n",
    "# Output: true"
   ]
  }
 ],
 "metadata": {
  "kernelspec": {
   "display_name": "Python 3",
   "language": "python",
   "name": "python3"
  },
  "language_info": {
   "codemirror_mode": {
    "name": "ipython",
    "version": 3
   },
   "file_extension": ".py",
   "mimetype": "text/x-python",
   "name": "python",
   "nbconvert_exporter": "python",
   "pygments_lexer": "ipython3",
   "version": "3.13.5"
  }
 },
 "nbformat": 4,
 "nbformat_minor": 5
}
